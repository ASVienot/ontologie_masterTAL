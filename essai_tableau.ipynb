{
 "cells": [
  {
   "cell_type": "code",
   "execution_count": 7,
   "metadata": {},
   "outputs": [],
   "source": [
    "import pandas as pd\n",
    "import numpy as np\n",
    "from rdfpandas.graph import to_graph\n",
    "import rdflib"
   ]
  },
  {
   "cell_type": "markdown",
   "metadata": {},
   "source": [
    "# Essai avec nos tableaux "
   ]
  },
  {
   "cell_type": "code",
   "execution_count": 19,
   "metadata": {},
   "outputs": [
    {
     "name": "stdout",
     "output_type": "stream",
     "text": [
      "        @id my:nom_cours(xsd:string) my:dispensePar{URIRef}  \\\n",
      "0   cours_1                     PPE1     [Dupond, Magistry]   \n",
      "1   cours_2                     PPE2     [Dupond, Magistry]   \n",
      "2   cours_3                  Python1                   Iris   \n",
      "3   cours_4                     MAAT    DelphineBattistelli   \n",
      "4   cours_5          LangageRegulier         DamienNouvelle   \n",
      "5   cours_6                      GIM             IlaineWang   \n",
      "6   cours_7            StatistiquesR    DelphineBattistelli   \n",
      "7   cours_8             Methodologie             MarcelCory   \n",
      "8   cours_9                      BDD                   Iris   \n",
      "9  cours_10           SyntheseParole                 Cedric   \n",
      "\n",
      "   my:hasHorraire(xsd:integer)  \n",
      "0                            3  \n",
      "1                            3  \n",
      "2                            4  \n",
      "3                            5  \n",
      "4                            6  \n",
      "5                            7  \n",
      "6                            8  \n",
      "7                            9  \n",
      "8                           10  \n",
      "9                            1  \n"
     ]
    }
   ],
   "source": [
    "data_cours = {\n",
    "    '@id': ['cours_1', 'cours_2', 'cours_3', 'cours_4', 'cours_5', 'cours_6', 'cours_7', 'cours_8', 'cours_9', 'cours_10'],\n",
    "    'my:nom_cours(xsd:string)': ['PPE1', 'PPE2', 'Python1', 'MAAT', 'LangageRegulier', 'GIM', 'StatistiquesR', 'Methodologie', 'BDD', 'SyntheseParole'],\n",
    "\t'my:dispensePar{URIRef}': [['Dupond', 'Magistry'], ['Dupond', 'Magistry'], 'Iris','DelphineBattistelli' ,'DamienNouvelle', 'IlaineWang', 'DelphineBattistelli', 'MarcelCory', 'Iris', 'Cedric'],\n",
    "    # ajout index pour mettre plusieurs profs donc plusieures colones \n",
    "    # ou pour chaque element quand c'est une liste rajouter une ligne au tableau pour chaque élément de la liste\n",
    "\t'my:hasHorraire(xsd:integer)': [3, 3, 4, 5, 6, 7, 8, 9, 10, 1],\n",
    "}\n",
    "df_cours = pd.DataFrame(data_cours)\n",
    "\n",
    "# save the dataframe to a CSV file\n",
    "df_cours.to_csv('data_cours.csv', index=False)\n",
    "\n",
    "print(df_cours)"
   ]
  },
  {
   "cell_type": "code",
   "execution_count": 35,
   "metadata": {},
   "outputs": [
    {
     "name": "stdout",
     "output_type": "stream",
     "text": [
      "              my:hasNom(xsd:string)    enseigne{URIRef}  \\\n",
      "enseignant_1         Iris Taravella  [cours_3, cours_9]   \n",
      "enseignant_2   Delphine Battistelli  [cours_7, cours_4]   \n",
      "enseignant_3        Damien Nouvelle             cours_5   \n",
      "enseignant_4            Ilaine Wang             cours_6   \n",
      "enseignant_5            Marcel Cory             cours_8   \n",
      "enseignant_6        Cedric Gendreot            cours_10   \n",
      "enseignant_7                 Dupond  [cours_1, cours_2]   \n",
      "enseignant_8        Pierre Magistry  [cours_1, cours_2]   \n",
      "enseignant_9            Loic Grobol                None   \n",
      "enseignant_10         Pascal Amsili                None   \n",
      "\n",
      "                           autreTitre(xsd:string)  \n",
      "enseignant_1                    Presidente_Attala  \n",
      "enseignant_2           Directrice Master Nanterre  \n",
      "enseignant_3              Directeur Master Inalco  \n",
      "enseignant_4                                 None  \n",
      "enseignant_5                                 None  \n",
      "enseignant_6   Directeur Master Sorbonne Nouvelle  \n",
      "enseignant_7                                 None  \n",
      "enseignant_8                                 None  \n",
      "enseignant_9                                 None  \n",
      "enseignant_10                                None  \n"
     ]
    }
   ],
   "source": [
    "df_prof = pd.DataFrame({\n",
    "    \"my:hasNom(xsd:string)\": [\"Iris Taravella\", \"Delphine Battistelli\", \"Damien Nouvelle\", \"Ilaine Wang\", \"Marcel Cory\", \"Cedric Gendreot\", \"Dupond\", \"Pierre Magistry\", \"Loic Grobol\", \"Pascal Amsili\"],\n",
    "    \"enseigne{URIRef}\": [[\"cours_3\", \"cours_9\"], [\"cours_7\", \"cours_4\"], \"cours_5\", \"cours_6\", \"cours_8\", \"cours_10\", [\"cours_1\", \"cours_2\"], [\"cours_1\", \"cours_2\"], None, None],\n",
    "    \"autreTitre(xsd:string)\": [\"Presidente_Attala\", \"Directrice Master Nanterre\", \"Directeur Master Inalco\", None, None, \"Directeur Master Sorbonne Nouvelle\", None, None, None, None]\n",
    "}, index=[\"enseignant_1\", \"enseignant_2\", \"enseignant_3\", \"enseignant_4\", \"enseignant_5\", \"enseignant_6\", \"enseignant_7\", \"enseignant_8\", \"enseignant_9\", \"enseignant_10\"])\n",
    "\n",
    "\n",
    "# save the dataframe to a CSV file\n",
    "df_prof.to_csv('data_prof.csv', index=False)\n",
    "\n",
    "print(df_prof)"
   ]
  },
  {
   "cell_type": "code",
   "execution_count": 33,
   "metadata": {},
   "outputs": [
    {
     "ename": "AttributeError",
     "evalue": "'DataFrame' object has no attribute 'append'",
     "output_type": "error",
     "traceback": [
      "\u001b[0;31m---------------------------------------------------------------------------\u001b[0m",
      "\u001b[0;31mAttributeError\u001b[0m                            Traceback (most recent call last)",
      "\u001b[0;32m/tmp/ipykernel_18453/639675124.py\u001b[0m in \u001b[0;36m?\u001b[0;34m()\u001b[0m\n\u001b[1;32m      4\u001b[0m                         \u001b[0;32mfor\u001b[0m \u001b[0mprof\u001b[0m \u001b[0;32min\u001b[0m \u001b[0mrow\u001b[0m\u001b[0;34m[\u001b[0m\u001b[0;34m'my:dispensePar{URIRef}'\u001b[0m\u001b[0;34m]\u001b[0m\u001b[0;34m:\u001b[0m\u001b[0;34m\u001b[0m\u001b[0;34m\u001b[0m\u001b[0m\n\u001b[1;32m      5\u001b[0m                                 \u001b[0mdf\u001b[0m \u001b[0;34m=\u001b[0m \u001b[0mdf\u001b[0m\u001b[0;34m.\u001b[0m\u001b[0mappend\u001b[0m\u001b[0;34m(\u001b[0m\u001b[0;34m{\u001b[0m\u001b[0;34m'@id'\u001b[0m\u001b[0;34m:\u001b[0m \u001b[0mrow\u001b[0m\u001b[0;34m[\u001b[0m\u001b[0;34m'@id'\u001b[0m\u001b[0;34m]\u001b[0m\u001b[0;34m,\u001b[0m \u001b[0;34m'my:nom_cours(xsd:string)'\u001b[0m\u001b[0;34m:\u001b[0m \u001b[0mrow\u001b[0m\u001b[0;34m[\u001b[0m\u001b[0;34m'my:nom_cours(xsd:string)'\u001b[0m\u001b[0;34m]\u001b[0m\u001b[0;34m,\u001b[0m \u001b[0;34m'my:dispensePar{URIRef}'\u001b[0m\u001b[0;34m:\u001b[0m \u001b[0mprof\u001b[0m\u001b[0;34m,\u001b[0m \u001b[0;34m'my:hasHorraire(xsd:integer)'\u001b[0m\u001b[0;34m:\u001b[0m \u001b[0mrow\u001b[0m\u001b[0;34m[\u001b[0m\u001b[0;34m'my:hasHorraire(xsd:integer)'\u001b[0m\u001b[0;34m]\u001b[0m\u001b[0;34m}\u001b[0m\u001b[0;34m,\u001b[0m \u001b[0mignore_index\u001b[0m\u001b[0;34m=\u001b[0m\u001b[0;32mTrue\u001b[0m\u001b[0;34m)\u001b[0m\u001b[0;34m\u001b[0m\u001b[0;34m\u001b[0m\u001b[0m\n\u001b[1;32m      6\u001b[0m         \u001b[0;32mreturn\u001b[0m \u001b[0mdf\u001b[0m\u001b[0;34m\u001b[0m\u001b[0;34m\u001b[0m\u001b[0m\n\u001b[1;32m      7\u001b[0m \u001b[0;34m\u001b[0m\u001b[0m\n\u001b[0;32m----> 8\u001b[0;31m \u001b[0mrajout_ligne_cours\u001b[0m\u001b[0;34m(\u001b[0m\u001b[0mdf_cours\u001b[0m\u001b[0;34m)\u001b[0m\u001b[0;34m\u001b[0m\u001b[0;34m\u001b[0m\u001b[0m\n\u001b[0m",
      "\u001b[0;32m/tmp/ipykernel_18453/639675124.py\u001b[0m in \u001b[0;36m?\u001b[0;34m(df)\u001b[0m\n\u001b[1;32m      1\u001b[0m \u001b[0;32mdef\u001b[0m \u001b[0mrajout_ligne_cours\u001b[0m\u001b[0;34m(\u001b[0m\u001b[0mdf\u001b[0m\u001b[0;34m)\u001b[0m\u001b[0;34m:\u001b[0m\u001b[0;34m\u001b[0m\u001b[0;34m\u001b[0m\u001b[0m\n\u001b[1;32m      2\u001b[0m         \u001b[0;32mfor\u001b[0m \u001b[0mindex\u001b[0m\u001b[0;34m,\u001b[0m \u001b[0mrow\u001b[0m \u001b[0;32min\u001b[0m \u001b[0mdf\u001b[0m\u001b[0;34m.\u001b[0m\u001b[0miterrows\u001b[0m\u001b[0;34m(\u001b[0m\u001b[0;34m)\u001b[0m\u001b[0;34m:\u001b[0m\u001b[0;34m\u001b[0m\u001b[0;34m\u001b[0m\u001b[0m\n\u001b[1;32m      3\u001b[0m                 \u001b[0;32mif\u001b[0m \u001b[0mtype\u001b[0m\u001b[0;34m(\u001b[0m\u001b[0mrow\u001b[0m\u001b[0;34m[\u001b[0m\u001b[0;34m'my:dispensePar{URIRef}'\u001b[0m\u001b[0;34m]\u001b[0m\u001b[0;34m)\u001b[0m \u001b[0;34m==\u001b[0m \u001b[0mlist\u001b[0m\u001b[0;34m:\u001b[0m\u001b[0;34m\u001b[0m\u001b[0;34m\u001b[0m\u001b[0m\n\u001b[1;32m      4\u001b[0m                         \u001b[0;32mfor\u001b[0m \u001b[0mprof\u001b[0m \u001b[0;32min\u001b[0m \u001b[0mrow\u001b[0m\u001b[0;34m[\u001b[0m\u001b[0;34m'my:dispensePar{URIRef}'\u001b[0m\u001b[0;34m]\u001b[0m\u001b[0;34m:\u001b[0m\u001b[0;34m\u001b[0m\u001b[0;34m\u001b[0m\u001b[0m\n\u001b[0;32m----> 5\u001b[0;31m                                 \u001b[0mdf\u001b[0m \u001b[0;34m=\u001b[0m \u001b[0mdf\u001b[0m\u001b[0;34m.\u001b[0m\u001b[0mappend\u001b[0m\u001b[0;34m(\u001b[0m\u001b[0;34m{\u001b[0m\u001b[0;34m'@id'\u001b[0m\u001b[0;34m:\u001b[0m \u001b[0mrow\u001b[0m\u001b[0;34m[\u001b[0m\u001b[0;34m'@id'\u001b[0m\u001b[0;34m]\u001b[0m\u001b[0;34m,\u001b[0m \u001b[0;34m'my:nom_cours(xsd:string)'\u001b[0m\u001b[0;34m:\u001b[0m \u001b[0mrow\u001b[0m\u001b[0;34m[\u001b[0m\u001b[0;34m'my:nom_cours(xsd:string)'\u001b[0m\u001b[0;34m]\u001b[0m\u001b[0;34m,\u001b[0m \u001b[0;34m'my:dispensePar{URIRef}'\u001b[0m\u001b[0;34m:\u001b[0m \u001b[0mprof\u001b[0m\u001b[0;34m,\u001b[0m \u001b[0;34m'my:hasHorraire(xsd:integer)'\u001b[0m\u001b[0;34m:\u001b[0m \u001b[0mrow\u001b[0m\u001b[0;34m[\u001b[0m\u001b[0;34m'my:hasHorraire(xsd:integer)'\u001b[0m\u001b[0;34m]\u001b[0m\u001b[0;34m}\u001b[0m\u001b[0;34m,\u001b[0m \u001b[0mignore_index\u001b[0m\u001b[0;34m=\u001b[0m\u001b[0;32mTrue\u001b[0m\u001b[0;34m)\u001b[0m\u001b[0;34m\u001b[0m\u001b[0;34m\u001b[0m\u001b[0m\n\u001b[0m\u001b[1;32m      6\u001b[0m         \u001b[0;32mreturn\u001b[0m \u001b[0mdf\u001b[0m\u001b[0;34m\u001b[0m\u001b[0;34m\u001b[0m\u001b[0m\n",
      "\u001b[0;32m~/Documents/M2_TAL/langage_script/.debutpython/lib/python3.11/site-packages/pandas/core/generic.py\u001b[0m in \u001b[0;36m?\u001b[0;34m(self, name)\u001b[0m\n\u001b[1;32m   6295\u001b[0m             \u001b[0;32mand\u001b[0m \u001b[0mname\u001b[0m \u001b[0;32mnot\u001b[0m \u001b[0;32min\u001b[0m \u001b[0mself\u001b[0m\u001b[0;34m.\u001b[0m\u001b[0m_accessors\u001b[0m\u001b[0;34m\u001b[0m\u001b[0;34m\u001b[0m\u001b[0m\n\u001b[1;32m   6296\u001b[0m             \u001b[0;32mand\u001b[0m \u001b[0mself\u001b[0m\u001b[0;34m.\u001b[0m\u001b[0m_info_axis\u001b[0m\u001b[0;34m.\u001b[0m\u001b[0m_can_hold_identifiers_and_holds_name\u001b[0m\u001b[0;34m(\u001b[0m\u001b[0mname\u001b[0m\u001b[0;34m)\u001b[0m\u001b[0;34m\u001b[0m\u001b[0;34m\u001b[0m\u001b[0m\n\u001b[1;32m   6297\u001b[0m         ):\n\u001b[1;32m   6298\u001b[0m             \u001b[0;32mreturn\u001b[0m \u001b[0mself\u001b[0m\u001b[0;34m[\u001b[0m\u001b[0mname\u001b[0m\u001b[0;34m]\u001b[0m\u001b[0;34m\u001b[0m\u001b[0;34m\u001b[0m\u001b[0m\n\u001b[0;32m-> 6299\u001b[0;31m         \u001b[0;32mreturn\u001b[0m \u001b[0mobject\u001b[0m\u001b[0;34m.\u001b[0m\u001b[0m__getattribute__\u001b[0m\u001b[0;34m(\u001b[0m\u001b[0mself\u001b[0m\u001b[0;34m,\u001b[0m \u001b[0mname\u001b[0m\u001b[0;34m)\u001b[0m\u001b[0;34m\u001b[0m\u001b[0;34m\u001b[0m\u001b[0m\n\u001b[0m",
      "\u001b[0;31mAttributeError\u001b[0m: 'DataFrame' object has no attribute 'append'"
     ]
    }
   ],
   "source": [
    "# def rajout_ligne_cours(df):\n",
    "# \tfor index, row in df.iterrows():\n",
    "# \t\tif type(row['my:dispensePar{URIRef}']) == list:\n",
    "# \t\t\tfor prof in row['my:dispensePar{URIRef}']:\n",
    "# \t\t\t\tdf = df.append({'@id': row['@id'], 'my:nom_cours(xsd:string)': row['my:nom_cours(xsd:string)'], 'my:dispensePar{URIRef}': prof, 'my:hasHorraire(xsd:integer)': row['my:hasHorraire(xsd:integer)']}, ignore_index=True)\n",
    "# \treturn df\n",
    "\n",
    "# rajout_ligne_cours(df_cours)"
   ]
  },
  {
   "cell_type": "code",
   "execution_count": null,
   "metadata": {},
   "outputs": [],
   "source": [
    "# def rajout_colonne_index(df_prof):\n",
    "# \tfor index, row in df.iterrows():\n",
    "# \t\tif type(row['enseigne{URIRef}']) == list:\n",
    "# \t\t\tfor cours in row['enseigne{URIRef}']:\n",
    "# \t\t\t\tdf = df.append({'my:hasNom(xsd:string)': row['my:hasNom(xsd:string)'], 'enseigne{URIRef}': cours, 'autreTitre(xsd:string)': row['autreTitre(xsd:string)']}, ignore_index=True)\n",
    "# \treturn df"
   ]
  },
  {
   "cell_type": "code",
   "execution_count": null,
   "metadata": {},
   "outputs": [],
   "source": []
  },
  {
   "cell_type": "code",
   "execution_count": 37,
   "metadata": {},
   "outputs": [
    {
     "ename": "ValueError",
     "evalue": "Can only create Literal, URIRef or BNode but was URIRef",
     "output_type": "error",
     "traceback": [
      "\u001b[0;31m---------------------------------------------------------------------------\u001b[0m",
      "\u001b[0;31mValueError\u001b[0m                                Traceback (most recent call last)",
      "Cell \u001b[0;32mIn[37], line 8\u001b[0m\n\u001b[1;32m      5\u001b[0m g\u001b[38;5;241m.\u001b[39mbind(\u001b[38;5;124m\"\u001b[39m\u001b[38;5;124mmy\u001b[39m\u001b[38;5;124m\"\u001b[39m, my_ns)\n\u001b[1;32m      6\u001b[0m \u001b[38;5;66;03m# namespace_manager = NamespaceManager(rdflib.Graph())\u001b[39;00m\n\u001b[0;32m----> 8\u001b[0m g \u001b[38;5;241m=\u001b[39m \u001b[43mto_graph\u001b[49m\u001b[43m(\u001b[49m\u001b[43mdf\u001b[49m\u001b[43m,\u001b[49m\u001b[43m \u001b[49m\u001b[43mnamespace_manager\u001b[49m\u001b[43m \u001b[49m\u001b[38;5;241;43m=\u001b[39;49m\u001b[43m \u001b[49m\u001b[38;5;28;43;01mNone\u001b[39;49;00m\u001b[43m)\u001b[49m\n\u001b[1;32m      9\u001b[0m \u001b[38;5;28mprint\u001b[39m(g)\n\u001b[1;32m     10\u001b[0m s \u001b[38;5;241m=\u001b[39m g\u001b[38;5;241m.\u001b[39mserialize(\u001b[38;5;28mformat\u001b[39m \u001b[38;5;241m=\u001b[39m \u001b[38;5;124m'\u001b[39m\u001b[38;5;124mturtle\u001b[39m\u001b[38;5;124m'\u001b[39m)\n",
      "File \u001b[0;32m~/Documents/M2_TAL/langage_script/.debutpython/lib/python3.11/site-packages/rdfpandas/graph.py:50\u001b[0m, in \u001b[0;36mto_graph\u001b[0;34m(df, namespace_manager)\u001b[0m\n\u001b[1;32m     48\u001b[0m                 o \u001b[38;5;241m=\u001b[39m _get_identifier(prefixes, value\u001b[38;5;241m.\u001b[39mdecode(\u001b[38;5;124m'\u001b[39m\u001b[38;5;124mutf-8\u001b[39m\u001b[38;5;124m'\u001b[39m), match\u001b[38;5;241m.\u001b[39mgroup(\u001b[38;5;241m3\u001b[39m), match\u001b[38;5;241m.\u001b[39mgroup(\u001b[38;5;241m7\u001b[39m), match\u001b[38;5;241m.\u001b[39mgroup(\u001b[38;5;241m9\u001b[39m))\n\u001b[1;32m     49\u001b[0m             \u001b[38;5;28;01melse\u001b[39;00m:\n\u001b[0;32m---> 50\u001b[0m                 o \u001b[38;5;241m=\u001b[39m \u001b[43m_get_identifier\u001b[49m\u001b[43m(\u001b[49m\u001b[43mprefixes\u001b[49m\u001b[43m,\u001b[49m\u001b[43m \u001b[49m\u001b[43mvalue\u001b[49m\u001b[43m,\u001b[49m\u001b[43m \u001b[49m\u001b[43mmatch\u001b[49m\u001b[38;5;241;43m.\u001b[39;49m\u001b[43mgroup\u001b[49m\u001b[43m(\u001b[49m\u001b[38;5;241;43m3\u001b[39;49m\u001b[43m)\u001b[49m\u001b[43m,\u001b[49m\u001b[43m \u001b[49m\u001b[43mmatch\u001b[49m\u001b[38;5;241;43m.\u001b[39;49m\u001b[43mgroup\u001b[49m\u001b[43m(\u001b[49m\u001b[38;5;241;43m7\u001b[39;49m\u001b[43m)\u001b[49m\u001b[43m,\u001b[49m\u001b[43m \u001b[49m\u001b[43mmatch\u001b[49m\u001b[38;5;241;43m.\u001b[39;49m\u001b[43mgroup\u001b[49m\u001b[43m(\u001b[49m\u001b[38;5;241;43m9\u001b[39;49m\u001b[43m)\u001b[49m\u001b[43m)\u001b[49m\n\u001b[1;32m     51\u001b[0m             g\u001b[38;5;241m.\u001b[39madd((s, p, o))\n\u001b[1;32m     53\u001b[0m \u001b[38;5;28;01mreturn\u001b[39;00m g\n",
      "File \u001b[0;32m~/Documents/M2_TAL/langage_script/.debutpython/lib/python3.11/site-packages/rdfpandas/graph.py:216\u001b[0m, in \u001b[0;36m_get_identifier\u001b[0;34m(prefixes, value, instance, datatype, language)\u001b[0m\n\u001b[1;32m    213\u001b[0m \u001b[38;5;28;01melif\u001b[39;00m instance \u001b[38;5;241m==\u001b[39m BNode\u001b[38;5;241m.\u001b[39m\u001b[38;5;18m__name__\u001b[39m:\n\u001b[1;32m    214\u001b[0m     \u001b[38;5;28;01mreturn\u001b[39;00m BNode(value)\n\u001b[0;32m--> 216\u001b[0m \u001b[38;5;28;01mraise\u001b[39;00m \u001b[38;5;167;01mValueError\u001b[39;00m(\u001b[38;5;124mf\u001b[39m\u001b[38;5;124m'\u001b[39m\u001b[38;5;124mCan only create Literal, URIRef or BNode but was \u001b[39m\u001b[38;5;132;01m{\u001b[39;00minstance\u001b[38;5;132;01m}\u001b[39;00m\u001b[38;5;124m'\u001b[39m)\n",
      "\u001b[0;31mValueError\u001b[0m: Can only create Literal, URIRef or BNode but was URIRef"
     ]
    }
   ],
   "source": [
    "\n",
    "df = pd.read_csv('data_prof.csv', keep_default_na = False)\n",
    "\n",
    "g = rdflib.Graph()\n",
    "my_ns = rdflib.Namespace(\"http://www.semanticweb.org/tacitus/ontologies/2024/11/MASTER_TAL#\")\n",
    "g.bind(\"my\", my_ns)\n",
    "# namespace_manager = NamespaceManager(rdflib.Graph())\n",
    "\n",
    "g = to_graph(df, namespace_manager = None)\n",
    "print(g)\n",
    "s = g.serialize(format = 'turtle')\n",
    "print(s)\n",
    "x = g.serialize(format = 'xml')\n",
    "print(x)"
   ]
  },
  {
   "cell_type": "code",
   "execution_count": null,
   "metadata": {},
   "outputs": [],
   "source": []
  },
  {
   "cell_type": "markdown",
   "metadata": {},
   "source": [
    "# Premier essai avec truc random qui marche"
   ]
  },
  {
   "cell_type": "code",
   "execution_count": 4,
   "metadata": {},
   "outputs": [
    {
     "name": "stdout",
     "output_type": "stream",
     "text": [
      "   index  my:hasAge{Literal}(xsd:integer)  my:isBlue my:name(xsd:string)  \\\n",
      "0      1                         0.244938       True                 foo   \n",
      "1      2                         0.495780      False                 bar   \n",
      "2      3                         0.247376       True                 foo   \n",
      "3      4                         0.271667      False                 bar   \n",
      "4      5                         0.020854       True                 foo   \n",
      "5      6                         0.065628      False                 bar   \n",
      "6      7                         0.892968       True                 foo   \n",
      "7      8                         0.777625      False                 foo   \n",
      "8      9                         0.081173       True                 bar   \n",
      "9     10                         0.663576      False                 foo   \n",
      "\n",
      "   my:knows  \n",
      "0         2  \n",
      "1         3  \n",
      "2         4  \n",
      "3         5  \n",
      "4         6  \n",
      "5         7  \n",
      "6         8  \n",
      "7         9  \n",
      "8        10  \n",
      "9         1  \n"
     ]
    }
   ],
   "source": [
    "import pandas as pd\n",
    "import numpy as np\n",
    "\n",
    "# create a dataframe with random data\n",
    "data = {\n",
    "    'index': [1, 2, 3, 4, 5, 6, 7, 8, 9, 10],\n",
    "\t'my:hasAge{Literal}(xsd:integer)': np.random.rand(10),\n",
    "\t'my:isBlue': [True, False, True, False, True, False, True, False, True, False],\n",
    "\t'my:name(xsd:string)': ['foo', 'bar', 'foo', 'bar', 'foo', 'bar', 'foo', 'foo', 'bar', 'foo'],\n",
    "\t'my:knows': [2, 3, 4, 5, 6, 7, 8, 9, 10, 1],\n",
    "}\n",
    "df_random = pd.DataFrame(data)\n",
    "\n",
    "# save the dataframe to a CSV file\n",
    "df_random.to_csv('random_data.csv', index=False)\n",
    "\n",
    "print(df_random)"
   ]
  },
  {
   "cell_type": "code",
   "execution_count": null,
   "metadata": {},
   "outputs": [
    {
     "ename": "ValueError",
     "evalue": "Index index invalid",
     "output_type": "error",
     "traceback": [
      "\u001b[0;31m---------------------------------------------------------------------------\u001b[0m",
      "\u001b[0;31mValueError\u001b[0m                                Traceback (most recent call last)",
      "Cell \u001b[0;32mIn[9], line 1\u001b[0m\n\u001b[0;32m----> 1\u001b[0m df \u001b[38;5;241m=\u001b[39m \u001b[43mpd\u001b[49m\u001b[38;5;241;43m.\u001b[39;49m\u001b[43mread_csv\u001b[49m\u001b[43m(\u001b[49m\u001b[38;5;124;43m'\u001b[39;49m\u001b[38;5;124;43mrandom_data.csv\u001b[39;49m\u001b[38;5;124;43m'\u001b[39;49m\u001b[43m,\u001b[49m\u001b[43m \u001b[49m\u001b[43mindex_col\u001b[49m\u001b[43m \u001b[49m\u001b[38;5;241;43m=\u001b[39;49m\u001b[43m \u001b[49m\u001b[38;5;124;43m'\u001b[39;49m\u001b[38;5;124;43mindex\u001b[39;49m\u001b[38;5;124;43m'\u001b[39;49m\u001b[43m,\u001b[49m\u001b[43m \u001b[49m\u001b[43mkeep_default_na\u001b[49m\u001b[43m \u001b[49m\u001b[38;5;241;43m=\u001b[39;49m\u001b[43m \u001b[49m\u001b[38;5;28;43;01mFalse\u001b[39;49;00m\u001b[43m)\u001b[49m\n\u001b[1;32m      3\u001b[0m \u001b[38;5;66;03m# g = rdflib.Graph()\u001b[39;00m\n\u001b[1;32m      4\u001b[0m \u001b[38;5;66;03m# my_ns = rdflib.Namespace(\"http://www.semanticweb.org/tacitus/ontologies/2024/11/MASTER_TAL#\")\u001b[39;00m\n\u001b[1;32m      5\u001b[0m \u001b[38;5;66;03m# g.bind(\"my\", my_ns)\u001b[39;00m\n\u001b[1;32m      6\u001b[0m \u001b[38;5;66;03m# namespace_manager = rdflib.NamespaceManager(rdflib.Graph())\u001b[39;00m\n\u001b[1;32m      8\u001b[0m g \u001b[38;5;241m=\u001b[39m to_graph(df, namespace_manager \u001b[38;5;241m=\u001b[39m \u001b[38;5;28;01mNone\u001b[39;00m)\n",
      "File \u001b[0;32m~/Documents/M2_TAL/langage_script/.debutpython/lib/python3.11/site-packages/pandas/io/parsers/readers.py:1026\u001b[0m, in \u001b[0;36mread_csv\u001b[0;34m(filepath_or_buffer, sep, delimiter, header, names, index_col, usecols, dtype, engine, converters, true_values, false_values, skipinitialspace, skiprows, skipfooter, nrows, na_values, keep_default_na, na_filter, verbose, skip_blank_lines, parse_dates, infer_datetime_format, keep_date_col, date_parser, date_format, dayfirst, cache_dates, iterator, chunksize, compression, thousands, decimal, lineterminator, quotechar, quoting, doublequote, escapechar, comment, encoding, encoding_errors, dialect, on_bad_lines, delim_whitespace, low_memory, memory_map, float_precision, storage_options, dtype_backend)\u001b[0m\n\u001b[1;32m   1013\u001b[0m kwds_defaults \u001b[38;5;241m=\u001b[39m _refine_defaults_read(\n\u001b[1;32m   1014\u001b[0m     dialect,\n\u001b[1;32m   1015\u001b[0m     delimiter,\n\u001b[0;32m   (...)\u001b[0m\n\u001b[1;32m   1022\u001b[0m     dtype_backend\u001b[38;5;241m=\u001b[39mdtype_backend,\n\u001b[1;32m   1023\u001b[0m )\n\u001b[1;32m   1024\u001b[0m kwds\u001b[38;5;241m.\u001b[39mupdate(kwds_defaults)\n\u001b[0;32m-> 1026\u001b[0m \u001b[38;5;28;01mreturn\u001b[39;00m \u001b[43m_read\u001b[49m\u001b[43m(\u001b[49m\u001b[43mfilepath_or_buffer\u001b[49m\u001b[43m,\u001b[49m\u001b[43m \u001b[49m\u001b[43mkwds\u001b[49m\u001b[43m)\u001b[49m\n",
      "File \u001b[0;32m~/Documents/M2_TAL/langage_script/.debutpython/lib/python3.11/site-packages/pandas/io/parsers/readers.py:626\u001b[0m, in \u001b[0;36m_read\u001b[0;34m(filepath_or_buffer, kwds)\u001b[0m\n\u001b[1;32m    623\u001b[0m     \u001b[38;5;28;01mreturn\u001b[39;00m parser\n\u001b[1;32m    625\u001b[0m \u001b[38;5;28;01mwith\u001b[39;00m parser:\n\u001b[0;32m--> 626\u001b[0m     \u001b[38;5;28;01mreturn\u001b[39;00m \u001b[43mparser\u001b[49m\u001b[38;5;241;43m.\u001b[39;49m\u001b[43mread\u001b[49m\u001b[43m(\u001b[49m\u001b[43mnrows\u001b[49m\u001b[43m)\u001b[49m\n",
      "File \u001b[0;32m~/Documents/M2_TAL/langage_script/.debutpython/lib/python3.11/site-packages/pandas/io/parsers/readers.py:1923\u001b[0m, in \u001b[0;36mTextFileReader.read\u001b[0;34m(self, nrows)\u001b[0m\n\u001b[1;32m   1916\u001b[0m nrows \u001b[38;5;241m=\u001b[39m validate_integer(\u001b[38;5;124m\"\u001b[39m\u001b[38;5;124mnrows\u001b[39m\u001b[38;5;124m\"\u001b[39m, nrows)\n\u001b[1;32m   1917\u001b[0m \u001b[38;5;28;01mtry\u001b[39;00m:\n\u001b[1;32m   1918\u001b[0m     \u001b[38;5;66;03m# error: \"ParserBase\" has no attribute \"read\"\u001b[39;00m\n\u001b[1;32m   1919\u001b[0m     (\n\u001b[1;32m   1920\u001b[0m         index,\n\u001b[1;32m   1921\u001b[0m         columns,\n\u001b[1;32m   1922\u001b[0m         col_dict,\n\u001b[0;32m-> 1923\u001b[0m     ) \u001b[38;5;241m=\u001b[39m \u001b[38;5;28;43mself\u001b[39;49m\u001b[38;5;241;43m.\u001b[39;49m\u001b[43m_engine\u001b[49m\u001b[38;5;241;43m.\u001b[39;49m\u001b[43mread\u001b[49m\u001b[43m(\u001b[49m\u001b[43m  \u001b[49m\u001b[38;5;66;43;03m# type: ignore[attr-defined]\u001b[39;49;00m\n\u001b[1;32m   1924\u001b[0m \u001b[43m        \u001b[49m\u001b[43mnrows\u001b[49m\n\u001b[1;32m   1925\u001b[0m \u001b[43m    \u001b[49m\u001b[43m)\u001b[49m\n\u001b[1;32m   1926\u001b[0m \u001b[38;5;28;01mexcept\u001b[39;00m \u001b[38;5;167;01mException\u001b[39;00m:\n\u001b[1;32m   1927\u001b[0m     \u001b[38;5;28mself\u001b[39m\u001b[38;5;241m.\u001b[39mclose()\n",
      "File \u001b[0;32m~/Documents/M2_TAL/langage_script/.debutpython/lib/python3.11/site-packages/pandas/io/parsers/c_parser_wrapper.py:333\u001b[0m, in \u001b[0;36mCParserWrapper.read\u001b[0;34m(self, nrows)\u001b[0m\n\u001b[1;32m    330\u001b[0m     data \u001b[38;5;241m=\u001b[39m {k: v \u001b[38;5;28;01mfor\u001b[39;00m k, (i, v) \u001b[38;5;129;01min\u001b[39;00m \u001b[38;5;28mzip\u001b[39m(names, data_tups)}\n\u001b[1;32m    332\u001b[0m     names, date_data \u001b[38;5;241m=\u001b[39m \u001b[38;5;28mself\u001b[39m\u001b[38;5;241m.\u001b[39m_do_date_conversions(names, data)\n\u001b[0;32m--> 333\u001b[0m     index, column_names \u001b[38;5;241m=\u001b[39m \u001b[38;5;28;43mself\u001b[39;49m\u001b[38;5;241;43m.\u001b[39;49m\u001b[43m_make_index\u001b[49m\u001b[43m(\u001b[49m\u001b[43mdate_data\u001b[49m\u001b[43m,\u001b[49m\u001b[43m \u001b[49m\u001b[43malldata\u001b[49m\u001b[43m,\u001b[49m\u001b[43m \u001b[49m\u001b[43mnames\u001b[49m\u001b[43m)\u001b[49m\n\u001b[1;32m    335\u001b[0m \u001b[38;5;28;01mreturn\u001b[39;00m index, column_names, date_data\n",
      "File \u001b[0;32m~/Documents/M2_TAL/langage_script/.debutpython/lib/python3.11/site-packages/pandas/io/parsers/base_parser.py:371\u001b[0m, in \u001b[0;36mParserBase._make_index\u001b[0;34m(self, data, alldata, columns, indexnamerow)\u001b[0m\n\u001b[1;32m    368\u001b[0m     index \u001b[38;5;241m=\u001b[39m \u001b[38;5;28;01mNone\u001b[39;00m\n\u001b[1;32m    370\u001b[0m \u001b[38;5;28;01melif\u001b[39;00m \u001b[38;5;129;01mnot\u001b[39;00m \u001b[38;5;28mself\u001b[39m\u001b[38;5;241m.\u001b[39m_has_complex_date_col:\n\u001b[0;32m--> 371\u001b[0m     simple_index \u001b[38;5;241m=\u001b[39m \u001b[38;5;28;43mself\u001b[39;49m\u001b[38;5;241;43m.\u001b[39;49m\u001b[43m_get_simple_index\u001b[49m\u001b[43m(\u001b[49m\u001b[43malldata\u001b[49m\u001b[43m,\u001b[49m\u001b[43m \u001b[49m\u001b[43mcolumns\u001b[49m\u001b[43m)\u001b[49m\n\u001b[1;32m    372\u001b[0m     index \u001b[38;5;241m=\u001b[39m \u001b[38;5;28mself\u001b[39m\u001b[38;5;241m.\u001b[39m_agg_index(simple_index)\n\u001b[1;32m    373\u001b[0m \u001b[38;5;28;01melif\u001b[39;00m \u001b[38;5;28mself\u001b[39m\u001b[38;5;241m.\u001b[39m_has_complex_date_col:\n",
      "File \u001b[0;32m~/Documents/M2_TAL/langage_script/.debutpython/lib/python3.11/site-packages/pandas/io/parsers/base_parser.py:403\u001b[0m, in \u001b[0;36mParserBase._get_simple_index\u001b[0;34m(self, data, columns)\u001b[0m\n\u001b[1;32m    401\u001b[0m index \u001b[38;5;241m=\u001b[39m []\n\u001b[1;32m    402\u001b[0m \u001b[38;5;28;01mfor\u001b[39;00m idx \u001b[38;5;129;01min\u001b[39;00m \u001b[38;5;28mself\u001b[39m\u001b[38;5;241m.\u001b[39mindex_col:\n\u001b[0;32m--> 403\u001b[0m     i \u001b[38;5;241m=\u001b[39m \u001b[43mix\u001b[49m\u001b[43m(\u001b[49m\u001b[43midx\u001b[49m\u001b[43m)\u001b[49m\n\u001b[1;32m    404\u001b[0m     to_remove\u001b[38;5;241m.\u001b[39mappend(i)\n\u001b[1;32m    405\u001b[0m     index\u001b[38;5;241m.\u001b[39mappend(data[i])\n",
      "File \u001b[0;32m~/Documents/M2_TAL/langage_script/.debutpython/lib/python3.11/site-packages/pandas/io/parsers/base_parser.py:398\u001b[0m, in \u001b[0;36mParserBase._get_simple_index.<locals>.ix\u001b[0;34m(col)\u001b[0m\n\u001b[1;32m    396\u001b[0m \u001b[38;5;28;01mif\u001b[39;00m \u001b[38;5;129;01mnot\u001b[39;00m \u001b[38;5;28misinstance\u001b[39m(col, \u001b[38;5;28mstr\u001b[39m):\n\u001b[1;32m    397\u001b[0m     \u001b[38;5;28;01mreturn\u001b[39;00m col\n\u001b[0;32m--> 398\u001b[0m \u001b[38;5;28;01mraise\u001b[39;00m \u001b[38;5;167;01mValueError\u001b[39;00m(\u001b[38;5;124mf\u001b[39m\u001b[38;5;124m\"\u001b[39m\u001b[38;5;124mIndex \u001b[39m\u001b[38;5;132;01m{\u001b[39;00mcol\u001b[38;5;132;01m}\u001b[39;00m\u001b[38;5;124m invalid\u001b[39m\u001b[38;5;124m\"\u001b[39m)\n",
      "\u001b[0;31mValueError\u001b[0m: Index index invalid"
     ]
    }
   ],
   "source": [
    "\n",
    "df = pd.read_csv('random_data.csv', index_col = 'index', keep_default_na = False)\n",
    "\n",
    "# g = rdflib.Graph()\n",
    "# my_ns = rdflib.Namespace(\"http://www.semanticweb.org/tacitus/ontologies/2024/11/MASTER_TAL#\")\n",
    "# g.bind(\"my\", my_ns)\n",
    "# namespace_manager = rdflib.NamespaceManager(rdflib.Graph())\n",
    "\n",
    "g = to_graph(df, namespace_manager = None)\n",
    "print(g)\n",
    "s = g.serialize(format = 'turtle')\n",
    "print(s)\n",
    "x = g.serialize(format = 'xml')\n",
    "print(x)"
   ]
  }
 ],
 "metadata": {
  "kernelspec": {
   "display_name": ".debutpython",
   "language": "python",
   "name": "python3"
  },
  "language_info": {
   "codemirror_mode": {
    "name": "ipython",
    "version": 3
   },
   "file_extension": ".py",
   "mimetype": "text/x-python",
   "name": "python",
   "nbconvert_exporter": "python",
   "pygments_lexer": "ipython3",
   "version": "3.11.6"
  }
 },
 "nbformat": 4,
 "nbformat_minor": 2
}
