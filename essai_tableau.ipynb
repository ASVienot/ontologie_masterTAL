{
 "cells": [
  {
   "cell_type": "code",
   "execution_count": 26,
   "metadata": {},
   "outputs": [
    {
     "name": "stdout",
     "output_type": "stream",
     "text": [
      "   index  my:hasAge{Literal}(xsd:integer)  my:isBlue my:name(xsd:string)  \\\n",
      "0      1                         0.362807       True                 foo   \n",
      "1      2                         0.897035      False                 bar   \n",
      "2      3                         0.198091       True                 foo   \n",
      "3      4                         0.803775      False                 bar   \n",
      "4      5                         0.103736       True                 foo   \n",
      "5      6                         0.072814      False                 bar   \n",
      "6      7                         0.642195       True                 foo   \n",
      "7      8                         0.993691      False                 foo   \n",
      "8      9                         0.581218       True                 bar   \n",
      "9     10                         0.403536      False                 foo   \n",
      "\n",
      "   my:knows  \n",
      "0         2  \n",
      "1         3  \n",
      "2         4  \n",
      "3         5  \n",
      "4         6  \n",
      "5         7  \n",
      "6         8  \n",
      "7         9  \n",
      "8        10  \n",
      "9         1  \n"
     ]
    }
   ],
   "source": [
    "import pandas as pd\n",
    "import numpy as np\n",
    "\n",
    "# create a dataframe with random data\n",
    "data = {\n",
    "    'index': [1, 2, 3, 4, 5, 6, 7, 8, 9, 10],\n",
    "\t'my:hasAge{Literal}(xsd:integer)': np.random.rand(10),\n",
    "\t'my:isBlue': [True, False, True, False, True, False, True, False, True, False],\n",
    "\t'my:name(xsd:string)': ['foo', 'bar', 'foo', 'bar', 'foo', 'bar', 'foo', 'foo', 'bar', 'foo'],\n",
    "\t'my:knows': [2, 3, 4, 5, 6, 7, 8, 9, 10, 1],\n",
    "}\n",
    "df_random = pd.DataFrame(data)\n",
    "\n",
    "# save the dataframe to a CSV file\n",
    "df_random.to_csv('random_data.csv', index=False)\n",
    "\n",
    "print(df_random)"
   ]
  },
  {
   "cell_type": "code",
   "execution_count": 27,
   "metadata": {},
   "outputs": [],
   "source": [
    "from rdfpandas.graph import to_graph\n",
    "import pandas as pd\n",
    "import rdflib"
   ]
  },
  {
   "cell_type": "code",
   "execution_count": 29,
   "metadata": {},
   "outputs": [
    {
     "name": "stdout",
     "output_type": "stream",
     "text": [
      "[a rdfg:Graph;rdflib:storage [a rdflib:Store;rdfs:label 'Memory']].\n",
      "@prefix ns1: <my:> .\n",
      "@prefix xsd: <http://www.w3.org/2001/XMLSchema#> .\n",
      "\n",
      "1 ns1:hasAge 0.3628065205379948 ;\n",
      "    ns1:isBlue true ;\n",
      "    ns1:knows 2 ;\n",
      "    ns1:name \"foo\"^^<xsd:string> .\n",
      "\n",
      "2 ns1:hasAge 0.8970345528397192 ;\n",
      "    ns1:isBlue false ;\n",
      "    ns1:knows 3 ;\n",
      "    ns1:name \"bar\"^^<xsd:string> .\n",
      "\n",
      "3 ns1:hasAge 0.1980911287281739 ;\n",
      "    ns1:isBlue true ;\n",
      "    ns1:knows 4 ;\n",
      "    ns1:name \"foo\"^^<xsd:string> .\n",
      "\n",
      "4 ns1:hasAge 0.8037753494861215 ;\n",
      "    ns1:isBlue false ;\n",
      "    ns1:knows 5 ;\n",
      "    ns1:name \"bar\"^^<xsd:string> .\n",
      "\n",
      "5 ns1:hasAge 0.1037364933078619 ;\n",
      "    ns1:isBlue true ;\n",
      "    ns1:knows 6 ;\n",
      "    ns1:name \"foo\"^^<xsd:string> .\n",
      "\n",
      "6 ns1:hasAge 0.0728138714801216 ;\n",
      "    ns1:isBlue false ;\n",
      "    ns1:knows 7 ;\n",
      "    ns1:name \"bar\"^^<xsd:string> .\n",
      "\n",
      "7 ns1:hasAge 0.6421950063922077 ;\n",
      "    ns1:isBlue true ;\n",
      "    ns1:knows 8 ;\n",
      "    ns1:name \"foo\"^^<xsd:string> .\n",
      "\n",
      "8 ns1:hasAge 0.993691076656668 ;\n",
      "    ns1:isBlue false ;\n",
      "    ns1:knows 9 ;\n",
      "    ns1:name \"foo\"^^<xsd:string> .\n",
      "\n",
      "9 ns1:hasAge 0.5812178898343578 ;\n",
      "    ns1:isBlue true ;\n",
      "    ns1:knows 10 ;\n",
      "    ns1:name \"bar\"^^<xsd:string> .\n",
      "\n",
      "10 ns1:hasAge 0.4035360768705904 ;\n",
      "    ns1:isBlue false ;\n",
      "    ns1:knows 1 ;\n",
      "    ns1:name \"foo\"^^<xsd:string> .\n",
      "\n",
      "\n",
      "<?xml version=\"1.0\" encoding=\"utf-8\"?>\n",
      "<rdf:RDF\n",
      "   xmlns:ns1=\"my:\"\n",
      "   xmlns:rdf=\"http://www.w3.org/1999/02/22-rdf-syntax-ns#\"\n",
      ">\n",
      "</rdf:RDF>\n",
      "\n"
     ]
    }
   ],
   "source": [
    "\n",
    "df = pd.read_csv('random_data.csv', index_col = 'index', keep_default_na = False)\n",
    "\n",
    "# namespace_manager = NamespaceManager(Graph())\n",
    "g = rdflib.Graph()\n",
    "my_ns = rdflib.Namespace(\"http://www.semanticweb.org/tacitus/ontologies/2024/11/MASTER_TAL#\")\n",
    "g.bind(\"my\", my_ns)\n",
    "\n",
    "g = to_graph(df, namespace_manager = None)\n",
    "print(g)\n",
    "s = g.serialize(format = 'turtle')\n",
    "print(s)\n",
    "x = g.serialize(format = 'xml')\n",
    "print(x)"
   ]
  }
 ],
 "metadata": {
  "kernelspec": {
   "display_name": ".debutpython",
   "language": "python",
   "name": "python3"
  },
  "language_info": {
   "codemirror_mode": {
    "name": "ipython",
    "version": 3
   },
   "file_extension": ".py",
   "mimetype": "text/x-python",
   "name": "python",
   "nbconvert_exporter": "python",
   "pygments_lexer": "ipython3",
   "version": "3.11.6"
  }
 },
 "nbformat": 4,
 "nbformat_minor": 2
}
