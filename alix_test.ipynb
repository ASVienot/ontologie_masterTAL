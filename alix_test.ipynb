{
 "cells": [
  {
   "cell_type": "code",
   "execution_count": 2,
   "metadata": {},
   "outputs": [],
   "source": [
    "from rdflib import Graph, Literal, RDF, URIRef\n",
    "# rdflib knows about quite a few popular namespaces, like W3C ontologies, schema.org etc.\n",
    "import rdflib\n",
    "from rdflib import Namespace\n"
   ]
  },
  {
   "cell_type": "code",
   "execution_count": 15,
   "metadata": {},
   "outputs": [],
   "source": [
    "g = Graph()"
   ]
  },
  {
   "cell_type": "code",
   "execution_count": 16,
   "metadata": {},
   "outputs": [],
   "source": [
    "base = \"http://www.semanticweb.org/tacitus/ontologies/2024/11/MASTER_TAL\"\n",
    "n = Namespace(base)\n",
    "t_eleve = Namespace(base + \"#Eleve\")\n",
    "t_prof = Namespace(base + \"#Enseignant\")"
   ]
  },
  {
   "cell_type": "code",
   "execution_count": 21,
   "metadata": {},
   "outputs": [
    {
     "name": "stdout",
     "output_type": "stream",
     "text": [
      "--- printing mboxes ---\n",
      "@prefix ns1: <http://www.semanticweb.org/tacitus/ontologies/2024/11/MASTER_TAL#> .\n",
      "@prefix xsd: <http://www.w3.org/2001/XMLSchema#> .\n",
      "\n",
      "ns1:EleveEleve1 ns1:EleveaPourAge 18 .\n",
      "\n",
      "ns1:EleveEleve2 ns1:EleveaPourAge 18 .\n",
      "\n",
      "ns1:EleveEleve3 ns1:EleveaPourAge 18 .\n",
      "\n",
      "ns1:EleveEleve4 ns1:EleveaPourAge 18 .\n",
      "\n",
      "ns1:EleveEleve5 ns1:EleveaPourAge 18 .\n",
      "\n",
      "<http://www.semanticweb.org/tacitus/ontologies/2024/11/MASTER_TALele> a <http://www.semanticweb.org/tacitus/ontologies/2024/11/MASTER_TALEleve> .\n",
      "\n",
      "<http://www.semanticweb.org/tacitus/ontologies/2024/11/MASTER_TALeleve> a ns1:EleveEleve,\n",
      "        <http://www.semanticweb.org/tacitus/ontologies/2024/11/MASTER_TALEleve> ;\n",
      "    ns1:EleveaPourNom \"Eleve1\",\n",
      "        \"Eleve2\",\n",
      "        \"Eleve3\",\n",
      "        \"Eleve4\",\n",
      "        \"Eleve5\" ;\n",
      "    ns1:Elevenom \"Eleve1\",\n",
      "        \"Eleve2\",\n",
      "        \"Eleve3\",\n",
      "        \"Eleve4\",\n",
      "        \"Eleve5\" .\n",
      "\n",
      "\n"
     ]
    }
   ],
   "source": [
    "list_eleve = [\"Eleve1\", \"Eleve2\", \"Eleve3\", \"Eleve4\", \"Eleve5\"]\n",
    "for ele in list_eleve:\n",
    "\tg.add((n.ele, RDF.type, n.Eleve))\n",
    "\n",
    "print(\"--- printing mboxes ---\")\n",
    "print(g.serialize(format='n3'))\n"
   ]
  },
  {
   "cell_type": "code",
   "execution_count": null,
   "metadata": {},
   "outputs": [],
   "source": []
  },
  {
   "cell_type": "code",
   "execution_count": null,
   "metadata": {},
   "outputs": [],
   "source": []
  },
  {
   "cell_type": "code",
   "execution_count": null,
   "metadata": {},
   "outputs": [],
   "source": []
  },
  {
   "cell_type": "code",
   "execution_count": null,
   "metadata": {},
   "outputs": [],
   "source": []
  },
  {
   "cell_type": "code",
   "execution_count": null,
   "metadata": {},
   "outputs": [],
   "source": []
  },
  {
   "cell_type": "code",
   "execution_count": null,
   "metadata": {},
   "outputs": [],
   "source": []
  }
 ],
 "metadata": {
  "kernelspec": {
   "display_name": "app_auto_dm_test",
   "language": "python",
   "name": "python3"
  },
  "language_info": {
   "codemirror_mode": {
    "name": "ipython",
    "version": 3
   },
   "file_extension": ".py",
   "mimetype": "text/x-python",
   "name": "python",
   "nbconvert_exporter": "python",
   "pygments_lexer": "ipython3",
   "version": "3.12.8"
  }
 },
 "nbformat": 4,
 "nbformat_minor": 2
}
