{
 "cells": [
  {
   "cell_type": "code",
   "execution_count": null,
   "metadata": {},
   "outputs": [],
   "source": [
    "list_eleve = [\"Alix\", \"Maria\", \"Maddie\", \"Kehina\", \"Eleve5\"]\n",
    "\n",
    "for eleve in list_eleve:\n",
    "\tn = URIRef(base + eleve)\n",
    "\tg.add((n, RDF.type, URIRef(base + \"Eleve\")))\n",
    "\n",
    "\n",
    "print(\"--- printing mboxes ---\")\n",
    "# print(g.serialize(format='n3'))\n",
    "\n",
    "x = g.serialize(format = 'xml')\n",
    "print(x)"
   ]
  },
  {
   "cell_type": "code",
   "execution_count": 3,
   "metadata": {},
   "outputs": [],
   "source": [
    "from rdflib import Graph, Literal, RDF, URIRef\n",
    "# rdflib knows about quite a few popular namespaces, like W3C ontologies, schema.org etc.\n",
    "import rdflib\n",
    "from rdflib import Namespace\n"
   ]
  },
  {
   "cell_type": "code",
   "execution_count": 4,
   "metadata": {},
   "outputs": [],
   "source": [
    "# Create the graph \n",
    "g = Graph()\n",
    "\n",
    "# my = \"http://www.semanticweb.org/tacitus/ontologies/2024/11/MASTER_TAL#\"\n",
    "\n",
    "# g.bind(\"my\", my)\n",
    "\n",
    "base = \"http://www.semanticweb.org/tacitus/ontologies/2024/11/MASTER_TAL#\"\n",
    "\n",
    "# t_eleve = Namespace(base + \"#Eleve\")\n",
    "# # t_prof = Namespace(base + \"#Enseignant\")"
   ]
  },
  {
   "cell_type": "code",
   "execution_count": 8,
   "metadata": {},
   "outputs": [
    {
     "name": "stdout",
     "output_type": "stream",
     "text": [
      "--- printing mboxes ---\n",
      "<?xml version=\"1.0\" encoding=\"utf-8\"?>\n",
      "<rdf:RDF\n",
      "   xmlns:ns1=\"http://www.semanticweb.org/tacitus/ontologies/2024/11/MASTER_TAL#\"\n",
      "   xmlns:rdf=\"http://www.w3.org/1999/02/22-rdf-syntax-ns#\"\n",
      ">\n",
      "  <rdf:Description rdf:about=\"http://www.semanticweb.org/tacitus/ontologies/2024/11/MASTER_TAL#Maria\">\n",
      "    <rdf:type rdf:resource=\"http://www.semanticweb.org/tacitus/ontologies/2024/11/MASTER_TAL#Eleve\"/>\n",
      "    <ns1:aPourNom>Maria</ns1:aPourNom>\n",
      "  </rdf:Description>\n",
      "  <rdf:Description rdf:about=\"http://www.semanticweb.org/tacitus/ontologies/2024/11/MASTER_TAL#Eleve5\">\n",
      "    <rdf:type rdf:resource=\"http://www.semanticweb.org/tacitus/ontologies/2024/11/MASTER_TAL#Eleve\"/>\n",
      "    <ns1:aPourNom>Eleve5</ns1:aPourNom>\n",
      "  </rdf:Description>\n",
      "  <rdf:Description rdf:about=\"http://www.semanticweb.org/tacitus/ontologies/2024/11/MASTER_TAL#Kehina\">\n",
      "    <rdf:type rdf:resource=\"http://www.semanticweb.org/tacitus/ontologies/2024/11/MASTER_TAL#Eleve\"/>\n",
      "    <ns1:aPourNom>Kehina</ns1:aPourNom>\n",
      "  </rdf:Description>\n",
      "  <rdf:Description rdf:about=\"http://www.semanticweb.org/tacitus/ontologies/2024/11/MASTER_TAL#Maddie\">\n",
      "    <rdf:type rdf:resource=\"http://www.semanticweb.org/tacitus/ontologies/2024/11/MASTER_TAL#Eleve\"/>\n",
      "    <ns1:aPourNom>Maddie</ns1:aPourNom>\n",
      "  </rdf:Description>\n",
      "  <rdf:Description rdf:about=\"http://www.semanticweb.org/tacitus/ontologies/2024/11/MASTER_TAL#Alix\">\n",
      "    <rdf:type rdf:resource=\"http://www.semanticweb.org/tacitus/ontologies/2024/11/MASTER_TAL#Eleve\"/>\n",
      "    <ns1:aPourNom>Alix</ns1:aPourNom>\n",
      "  </rdf:Description>\n",
      "</rdf:RDF>\n",
      "\n"
     ]
    }
   ],
   "source": [
    "prof = [\"Alix\", \"Maria\", \"Maddie\", \"Kehina\", \"Eleve5\"]\n",
    "\n",
    "for enseignant in prof:\n",
    "\tn = URIRef(base + enseignant)\n",
    "\tg.add((n, RDF.type, URIRef(base + \"Eleve\")))\n",
    "\tg.add((n, URIRef(base + \"aPourNom\"), Literal(enseignant)))\n",
    "\n",
    "print(\"--- printing mboxes ---\")\n",
    "\n",
    "x = g.serialize(format = 'xml')\n",
    "print(x)"
   ]
  },
  {
   "cell_type": "code",
   "execution_count": null,
   "metadata": {},
   "outputs": [],
   "source": []
  },
  {
   "cell_type": "code",
   "execution_count": null,
   "metadata": {},
   "outputs": [],
   "source": []
  },
  {
   "cell_type": "code",
   "execution_count": null,
   "metadata": {},
   "outputs": [],
   "source": []
  },
  {
   "cell_type": "code",
   "execution_count": null,
   "metadata": {},
   "outputs": [],
   "source": []
  },
  {
   "cell_type": "code",
   "execution_count": null,
   "metadata": {},
   "outputs": [],
   "source": []
  },
  {
   "cell_type": "code",
   "execution_count": null,
   "metadata": {},
   "outputs": [],
   "source": []
  }
 ],
 "metadata": {
  "kernelspec": {
   "display_name": "app_auto_dm_test",
   "language": "python",
   "name": "python3"
  },
  "language_info": {
   "codemirror_mode": {
    "name": "ipython",
    "version": 3
   },
   "file_extension": ".py",
   "mimetype": "text/x-python",
   "name": "python",
   "nbconvert_exporter": "python",
   "pygments_lexer": "ipython3",
   "version": "3.12.8"
  }
 },
 "nbformat": 4,
 "nbformat_minor": 2
}
