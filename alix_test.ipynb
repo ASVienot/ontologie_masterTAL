{
 "cells": [
  {
   "cell_type": "code",
   "execution_count": 2,
   "metadata": {},
   "outputs": [],
   "source": [
    "from rdflib import Graph, Literal, RDF, URIRef\n",
    "# rdflib knows about quite a few popular namespaces, like W3C ontologies, schema.org etc.\n",
    "import rdflib\n",
    "from rdflib import Namespace\n"
   ]
  },
  {
   "cell_type": "code",
   "execution_count": 3,
   "metadata": {},
   "outputs": [],
   "source": [
    "# Create the graph \n",
    "g = Graph()\n",
    "\n",
    "base = \"http://www.semanticweb.org/tacitus/ontologies/2024/11/MASTER_TAL#\""
   ]
  },
  {
   "cell_type": "code",
   "execution_count": 8,
   "metadata": {},
   "outputs": [
    {
     "name": "stdout",
     "output_type": "stream",
     "text": [
      "--- printing mboxes ---\n",
      "<?xml version=\"1.0\" encoding=\"utf-8\"?>\n",
      "<rdf:RDF\n",
      "   xmlns:ns1=\"http://www.semanticweb.org/tacitus/ontologies/2024/11/MASTER_TAL#\"\n",
      "   xmlns:rdf=\"http://www.w3.org/1999/02/22-rdf-syntax-ns#\"\n",
      ">\n",
      "  <rdf:Description rdf:about=\"http://www.semanticweb.org/tacitus/ontologies/2024/11/MASTER_TAL#Maria\">\n",
      "    <rdf:type rdf:resource=\"http://www.semanticweb.org/tacitus/ontologies/2024/11/MASTER_TAL#Eleve\"/>\n",
      "    <ns1:aPourNom>Maria</ns1:aPourNom>\n",
      "    <ns1:nom>Maria</ns1:nom>\n",
      "    <ns1:inscritA rdf:resource=\"http://www.semanticweb.org/tacitus/ontologies/2024/11/MASTER_TAL#Inalco\"/>\n",
      "    <ns1:inscritA rdf:resource=\"http://www.semanticweb.org/tacitus/ontologies/2024/11/MASTER_TAL#M2_IM_24-25\"/>\n",
      "    <ns1:age rdf:datatype=\"http://www.w3.org/2001/XMLSchema#integer\">22</ns1:age>\n",
      "  </rdf:Description>\n",
      "  <rdf:Description rdf:about=\"http://www.semanticweb.org/tacitus/ontologies/2024/11/MASTER_TAL#Eleve5\">\n",
      "    <rdf:type rdf:resource=\"http://www.semanticweb.org/tacitus/ontologies/2024/11/MASTER_TAL#Eleve\"/>\n",
      "    <ns1:aPourNom>Eleve5</ns1:aPourNom>\n",
      "    <ns1:nom>Eleve5</ns1:nom>\n",
      "    <ns1:inscritA rdf:resource=\"http://www.semanticweb.org/tacitus/ontologies/2024/11/MASTER_TAL#Inalco\"/>\n",
      "    <ns1:inscritA rdf:resource=\"http://www.semanticweb.org/tacitus/ontologies/2024/11/MASTER_TAL#M2_IM_24-25\"/>\n",
      "  </rdf:Description>\n",
      "  <rdf:Description rdf:about=\"http://www.semanticweb.org/tacitus/ontologies/2024/11/MASTER_TAL#Kehina\">\n",
      "    <rdf:type rdf:resource=\"http://www.semanticweb.org/tacitus/ontologies/2024/11/MASTER_TAL#Eleve\"/>\n",
      "    <ns1:aPourNom>Kehina</ns1:aPourNom>\n",
      "    <ns1:nom>Kehina</ns1:nom>\n",
      "    <ns1:inscritA rdf:resource=\"http://www.semanticweb.org/tacitus/ontologies/2024/11/MASTER_TAL#Inalco\"/>\n",
      "    <ns1:inscritA rdf:resource=\"http://www.semanticweb.org/tacitus/ontologies/2024/11/MASTER_TAL#M2_IM_24-25\"/>\n",
      "  </rdf:Description>\n",
      "  <rdf:Description rdf:about=\"http://www.semanticweb.org/tacitus/ontologies/2024/11/MASTER_TAL#Maddie\">\n",
      "    <rdf:type rdf:resource=\"http://www.semanticweb.org/tacitus/ontologies/2024/11/MASTER_TAL#Eleve\"/>\n",
      "    <ns1:aPourNom>Maddie</ns1:aPourNom>\n",
      "    <ns1:nom>Maddie</ns1:nom>\n",
      "    <ns1:inscritA rdf:resource=\"http://www.semanticweb.org/tacitus/ontologies/2024/11/MASTER_TAL#Inalco\"/>\n",
      "    <ns1:inscritA rdf:resource=\"http://www.semanticweb.org/tacitus/ontologies/2024/11/MASTER_TAL#M2_IM_24-25\"/>\n",
      "  </rdf:Description>\n",
      "  <rdf:Description rdf:about=\"http://www.semanticweb.org/tacitus/ontologies/2024/11/MASTER_TAL#Nathalie\">\n",
      "    <rdf:type rdf:resource=\"http://www.semanticweb.org/tacitus/ontologies/2024/11/MASTER_TAL#Eleve\"/>\n",
      "    <ns1:nom>Nathalie</ns1:nom>\n",
      "    <ns1:inscritA rdf:resource=\"http://www.semanticweb.org/tacitus/ontologies/2024/11/MASTER_TAL#Inalco\"/>\n",
      "    <ns1:age rdf:datatype=\"http://www.w3.org/2001/XMLSchema#integer\">24</ns1:age>\n",
      "  </rdf:Description>\n",
      "  <rdf:Description rdf:about=\"http://www.semanticweb.org/tacitus/ontologies/2024/11/MASTER_TAL#Sonia\">\n",
      "    <rdf:type rdf:resource=\"http://www.semanticweb.org/tacitus/ontologies/2024/11/MASTER_TAL#Eleve\"/>\n",
      "    <ns1:nom>Sonia</ns1:nom>\n",
      "    <ns1:inscritA rdf:resource=\"http://www.semanticweb.org/tacitus/ontologies/2024/11/MASTER_TAL#Inalco\"/>\n",
      "    <ns1:age rdf:datatype=\"http://www.w3.org/2001/XMLSchema#integer\">28</ns1:age>\n",
      "  </rdf:Description>\n",
      "  <rdf:Description rdf:about=\"http://www.semanticweb.org/tacitus/ontologies/2024/11/MASTER_TAL#Tatiana\">\n",
      "    <rdf:type rdf:resource=\"http://www.semanticweb.org/tacitus/ontologies/2024/11/MASTER_TAL#Eleve\"/>\n",
      "    <ns1:nom>Tatiana</ns1:nom>\n",
      "    <ns1:inscritA rdf:resource=\"http://www.semanticweb.org/tacitus/ontologies/2024/11/MASTER_TAL#Inalco\"/>\n",
      "    <ns1:age rdf:datatype=\"http://www.w3.org/2001/XMLSchema#integer\">30</ns1:age>\n",
      "  </rdf:Description>\n",
      "  <rdf:Description rdf:about=\"http://www.semanticweb.org/tacitus/ontologies/2024/11/MASTER_TAL#Romain\">\n",
      "    <rdf:type rdf:resource=\"http://www.semanticweb.org/tacitus/ontologies/2024/11/MASTER_TAL#Eleve\"/>\n",
      "    <ns1:nom>Romain</ns1:nom>\n",
      "    <ns1:inscritA rdf:resource=\"http://www.semanticweb.org/tacitus/ontologies/2024/11/MASTER_TAL#Inalco\"/>\n",
      "    <ns1:age rdf:datatype=\"http://www.w3.org/2001/XMLSchema#integer\">26</ns1:age>\n",
      "  </rdf:Description>\n",
      "  <rdf:Description rdf:about=\"http://www.semanticweb.org/tacitus/ontologies/2024/11/MASTER_TAL#Alix\">\n",
      "    <rdf:type rdf:resource=\"http://www.semanticweb.org/tacitus/ontologies/2024/11/MASTER_TAL#Eleve\"/>\n",
      "    <ns1:aPourNom>Alix</ns1:aPourNom>\n",
      "    <ns1:nom>Alix</ns1:nom>\n",
      "    <ns1:inscritA rdf:resource=\"http://www.semanticweb.org/tacitus/ontologies/2024/11/MASTER_TAL#Inalco\"/>\n",
      "    <ns1:inscritA rdf:resource=\"http://www.semanticweb.org/tacitus/ontologies/2024/11/MASTER_TAL#M2_IM_24-25\"/>\n",
      "  </rdf:Description>\n",
      "  <rdf:Description rdf:about=\"http://www.semanticweb.org/tacitus/ontologies/2024/11/MASTER_TAL#Alix:\">\n",
      "    <rdf:type rdf:resource=\"http://www.semanticweb.org/tacitus/ontologies/2024/11/MASTER_TAL#Eleve\"/>\n",
      "    <ns1:nom>Alix:</ns1:nom>\n",
      "    <ns1:inscritA rdf:resource=\"http://www.semanticweb.org/tacitus/ontologies/2024/11/MASTER_TAL#Inalco\"/>\n",
      "    <ns1:age rdf:datatype=\"http://www.w3.org/2001/XMLSchema#integer\">18</ns1:age>\n",
      "  </rdf:Description>\n",
      "  <rdf:Description rdf:about=\"http://www.semanticweb.org/tacitus/ontologies/2024/11/MASTER_TAL#Olivier\">\n",
      "    <rdf:type rdf:resource=\"http://www.semanticweb.org/tacitus/ontologies/2024/11/MASTER_TAL#Eleve\"/>\n",
      "    <ns1:nom>Olivier</ns1:nom>\n",
      "    <ns1:inscritA rdf:resource=\"http://www.semanticweb.org/tacitus/ontologies/2024/11/MASTER_TAL#Inalco\"/>\n",
      "    <ns1:age rdf:datatype=\"http://www.w3.org/2001/XMLSchema#integer\">25</ns1:age>\n",
      "  </rdf:Description>\n",
      "  <rdf:Description rdf:about=\"http://www.semanticweb.org/tacitus/ontologies/2024/11/MASTER_TAL#Moussa\">\n",
      "    <rdf:type rdf:resource=\"http://www.semanticweb.org/tacitus/ontologies/2024/11/MASTER_TAL#Eleve\"/>\n",
      "    <ns1:nom>Moussa</ns1:nom>\n",
      "    <ns1:inscritA rdf:resource=\"http://www.semanticweb.org/tacitus/ontologies/2024/11/MASTER_TAL#Inalco\"/>\n",
      "    <ns1:age rdf:datatype=\"http://www.w3.org/2001/XMLSchema#integer\">23</ns1:age>\n",
      "  </rdf:Description>\n",
      "  <rdf:Description rdf:about=\"http://www.semanticweb.org/tacitus/ontologies/2024/11/MASTER_TAL#Sara\">\n",
      "    <rdf:type rdf:resource=\"http://www.semanticweb.org/tacitus/ontologies/2024/11/MASTER_TAL#Eleve\"/>\n",
      "    <ns1:nom>Sara</ns1:nom>\n",
      "    <ns1:inscritA rdf:resource=\"http://www.semanticweb.org/tacitus/ontologies/2024/11/MASTER_TAL#Inalco\"/>\n",
      "    <ns1:age rdf:datatype=\"http://www.w3.org/2001/XMLSchema#integer\">27</ns1:age>\n",
      "  </rdf:Description>\n",
      "</rdf:RDF>\n",
      "\n"
     ]
    }
   ],
   "source": [
    "dico_eleve = {\"Alix:\": 18, \"Maria\": 22, \"Moussa\": 23, \"Nathalie\": 24, \"Olivier\": 25, \"Romain\": 26, \"Sara\": 27, \"Sonia\": 28, \"Tatiana\": 29, \"Tatiana\": 30}\n",
    "\n",
    "for eleve in dico_eleve:\n",
    "\tn = URIRef(base + eleve)\n",
    "\tg.add((n, RDF.type, URIRef(base + \"Eleve\")))\n",
    "\tg.add((n, URIRef(base + \"nom\"), Literal(eleve)))\n",
    "\tg.add((n, URIRef(base + \"inscritA\"), URIRef(base+\"Inalco\")))\n",
    "\tg.add((n, URIRef(base + \"age\"), Literal(dico_eleve[eleve])))\t\n",
    "\t\n",
    "print(\"--- printing mboxes ---\")\n",
    "# print(g.serialize(format='n3'))\n",
    "\n",
    "x = g.serialize(format = 'xml')\n",
    "print(x)"
   ]
  },
  {
   "cell_type": "code",
   "execution_count": 5,
   "metadata": {},
   "outputs": [
    {
     "name": "stdout",
     "output_type": "stream",
     "text": [
      "--- printing mboxes ---\n",
      "<?xml version=\"1.0\" encoding=\"utf-8\"?>\n",
      "<rdf:RDF\n",
      "   xmlns:ns1=\"http://www.semanticweb.org/tacitus/ontologies/2024/11/MASTER_TAL#\"\n",
      "   xmlns:rdf=\"http://www.w3.org/1999/02/22-rdf-syntax-ns#\"\n",
      ">\n",
      "  <rdf:Description rdf:about=\"http://www.semanticweb.org/tacitus/ontologies/2024/11/MASTER_TAL#Maria\">\n",
      "    <rdf:type rdf:resource=\"http://www.semanticweb.org/tacitus/ontologies/2024/11/MASTER_TAL#Eleve\"/>\n",
      "    <ns1:aPourNom>Maria</ns1:aPourNom>\n",
      "  </rdf:Description>\n",
      "  <rdf:Description rdf:about=\"http://www.semanticweb.org/tacitus/ontologies/2024/11/MASTER_TAL#Eleve5\">\n",
      "    <rdf:type rdf:resource=\"http://www.semanticweb.org/tacitus/ontologies/2024/11/MASTER_TAL#Eleve\"/>\n",
      "    <ns1:aPourNom>Eleve5</ns1:aPourNom>\n",
      "  </rdf:Description>\n",
      "  <rdf:Description rdf:about=\"http://www.semanticweb.org/tacitus/ontologies/2024/11/MASTER_TAL#Kehina\">\n",
      "    <rdf:type rdf:resource=\"http://www.semanticweb.org/tacitus/ontologies/2024/11/MASTER_TAL#Eleve\"/>\n",
      "    <ns1:aPourNom>Kehina</ns1:aPourNom>\n",
      "  </rdf:Description>\n",
      "  <rdf:Description rdf:about=\"http://www.semanticweb.org/tacitus/ontologies/2024/11/MASTER_TAL#Alix\">\n",
      "    <rdf:type rdf:resource=\"http://www.semanticweb.org/tacitus/ontologies/2024/11/MASTER_TAL#Eleve\"/>\n",
      "    <ns1:aPourNom>Alix</ns1:aPourNom>\n",
      "  </rdf:Description>\n",
      "  <rdf:Description rdf:about=\"http://www.semanticweb.org/tacitus/ontologies/2024/11/MASTER_TAL#Maddie\">\n",
      "    <rdf:type rdf:resource=\"http://www.semanticweb.org/tacitus/ontologies/2024/11/MASTER_TAL#Eleve\"/>\n",
      "    <ns1:aPourNom>Maddie</ns1:aPourNom>\n",
      "  </rdf:Description>\n",
      "</rdf:RDF>\n",
      "\n"
     ]
    }
   ],
   "source": [
    "prof = [\"Alix\", \"Maria\", \"Maddie\", \"Kehina\", \"Eleve5\"]\n",
    "\n",
    "for enseignant in prof:\n",
    "\tn = URIRef(base + enseignant)\n",
    "\tg.add((n, RDF.type, URIRef(base + \"Eleve\")))\n",
    "\tg.add((n, URIRef(base + \"aPourNom\"), Literal(enseignant)))\n",
    "\n",
    "print(\"--- printing mboxes ---\")\n",
    "\n",
    "x = g.serialize(format = 'xml')\n",
    "print(x)"
   ]
  },
  {
   "cell_type": "code",
   "execution_count": null,
   "metadata": {},
   "outputs": [],
   "source": []
  },
  {
   "cell_type": "code",
   "execution_count": null,
   "metadata": {},
   "outputs": [],
   "source": []
  },
  {
   "cell_type": "code",
   "execution_count": null,
   "metadata": {},
   "outputs": [],
   "source": []
  },
  {
   "cell_type": "code",
   "execution_count": null,
   "metadata": {},
   "outputs": [],
   "source": []
  },
  {
   "cell_type": "code",
   "execution_count": null,
   "metadata": {},
   "outputs": [],
   "source": []
  },
  {
   "cell_type": "code",
   "execution_count": null,
   "metadata": {},
   "outputs": [],
   "source": []
  }
 ],
 "metadata": {
  "kernelspec": {
   "display_name": ".ontolo",
   "language": "python",
   "name": "python3"
  },
  "language_info": {
   "codemirror_mode": {
    "name": "ipython",
    "version": 3
   },
   "file_extension": ".py",
   "mimetype": "text/x-python",
   "name": "python",
   "nbconvert_exporter": "python",
   "pygments_lexer": "ipython3",
   "version": "3.11.6"
  }
 },
 "nbformat": 4,
 "nbformat_minor": 2
}
